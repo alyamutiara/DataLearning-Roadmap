{
 "cells": [
  {
   "cell_type": "code",
   "execution_count": null,
   "metadata": {},
   "outputs": [],
   "source": [
    "!pip install ipython-sql\n",
    "\n",
    "# The code install the ipython-sql package using the pip package manager.\n",
    "# pip is a tool used to install and manage Python packages. \n",
    "# The ! symbol at the beginning of the line is used in Jupyter notebooks to run shell commands."
   ]
  },
  {
   "cell_type": "code",
   "execution_count": 2,
   "metadata": {},
   "outputs": [],
   "source": [
    "import pandas as pd\n",
    "import sqlite3"
   ]
  },
  {
   "cell_type": "code",
   "execution_count": 3,
   "metadata": {},
   "outputs": [],
   "source": [
    "%load_ext sql\n",
    "\n",
    "# This is a Jupyter notebook magic command that loads an SQL extension.\n",
    "# This allows user to execute SQL queries directly in the Jupyter notebook.\n",
    "# We can connect to any database which is supported by SQLAlchemy, in this project we will use SQLite database."
   ]
  },
  {
   "cell_type": "code",
   "execution_count": 4,
   "metadata": {},
   "outputs": [],
   "source": [
    "%sql sqlite:///MovieNow.db\n",
    "# %sql is the magic command to connect to a SQLite database.\n",
    "# The command sets the connection string to the default SQLite database."
   ]
  },
  {
   "cell_type": "markdown",
   "metadata": {},
   "source": [
    "##### Creating a database"
   ]
  },
  {
   "cell_type": "code",
   "execution_count": null,
   "metadata": {},
   "outputs": [],
   "source": [
    "# Create blank tables inside SQLite database\n",
    "%sql --file ./MovieNow-sqlite.sql"
   ]
  },
  {
   "cell_type": "code",
   "execution_count": 67,
   "metadata": {},
   "outputs": [],
   "source": [
    "# Load Actors CSV file into a DataFrame\n",
    "actors = 'actors.csv'\n",
    "actsin = 'actsin.csv'\n",
    "customers = 'customers.csv'\n",
    "movies = 'movies.csv'\n",
    "renting = 'renting.csv'\n",
    "\n",
    "df_at = pd.read_csv(actors)\n",
    "df_as = pd.read_csv(actsin)\n",
    "df_c = pd.read_csv(customers)\n",
    "df_m = pd.read_csv(movies)\n",
    "df_r = pd.read_csv(renting)\n",
    "\n",
    "# Connect to SQLite database\n",
    "conn = sqlite3.connect('MovieNow.db')\n",
    "\n",
    "# Write DataFrame to SQLite table\n",
    "df_at.to_sql('actors', conn, index=False, if_exists='replace')\n",
    "df_as.to_sql('actsin', conn, index=False, if_exists='replace')\n",
    "df_c.to_sql('customers', conn, index=False, if_exists='replace')\n",
    "df_m.to_sql('movies', conn, index=False, if_exists='replace')\n",
    "df_r.to_sql('renting', conn, index=False, if_exists='replace')\n",
    "\n",
    "# Close the connection\n",
    "conn.close()"
   ]
  },
  {
   "cell_type": "markdown",
   "metadata": {},
   "source": [
    "##### Showing the tables"
   ]
  },
  {
   "cell_type": "code",
   "execution_count": 5,
   "metadata": {},
   "outputs": [
    {
     "name": "stdout",
     "output_type": "stream",
     "text": [
      " * sqlite:///MovieNow.db\n",
      "Done.\n"
     ]
    },
    {
     "data": {
      "text/html": [
       "<table>\n",
       "    <thead>\n",
       "        <tr>\n",
       "            <th>actor_id</th>\n",
       "            <th>name</th>\n",
       "            <th>year_of_birth</th>\n",
       "            <th>nationality</th>\n",
       "            <th>gender</th>\n",
       "        </tr>\n",
       "    </thead>\n",
       "    <tbody>\n",
       "        <tr>\n",
       "            <td>1</td>\n",
       "            <td>Abbie Cornish</td>\n",
       "            <td>1982.0</td>\n",
       "            <td>Australia</td>\n",
       "            <td>female</td>\n",
       "        </tr>\n",
       "        <tr>\n",
       "            <td>2</td>\n",
       "            <td>Adam Sandler</td>\n",
       "            <td>1966.0</td>\n",
       "            <td>USA</td>\n",
       "            <td>male</td>\n",
       "        </tr>\n",
       "        <tr>\n",
       "            <td>3</td>\n",
       "            <td>Al Pacino</td>\n",
       "            <td>1940.0</td>\n",
       "            <td>USA</td>\n",
       "            <td>male</td>\n",
       "        </tr>\n",
       "        <tr>\n",
       "            <td>4</td>\n",
       "            <td>Amy Adams</td>\n",
       "            <td>1974.0</td>\n",
       "            <td>USA</td>\n",
       "            <td>female</td>\n",
       "        </tr>\n",
       "        <tr>\n",
       "            <td>5</td>\n",
       "            <td>Andrea Riseborough</td>\n",
       "            <td>1981.0</td>\n",
       "            <td>British</td>\n",
       "            <td>female</td>\n",
       "        </tr>\n",
       "    </tbody>\n",
       "</table>"
      ],
      "text/plain": [
       "[(1, 'Abbie Cornish', 1982.0, 'Australia', 'female'),\n",
       " (2, 'Adam Sandler', 1966.0, 'USA', 'male'),\n",
       " (3, 'Al Pacino', 1940.0, 'USA', 'male'),\n",
       " (4, 'Amy Adams', 1974.0, 'USA', 'female'),\n",
       " (5, 'Andrea Riseborough', 1981.0, 'British', 'female')]"
      ]
     },
     "execution_count": 5,
     "metadata": {},
     "output_type": "execute_result"
    }
   ],
   "source": [
    "%%sql\n",
    "SELECT *\n",
    "FROM actors\n",
    "LIMIT 5;"
   ]
  },
  {
   "cell_type": "code",
   "execution_count": 7,
   "metadata": {},
   "outputs": [
    {
     "name": "stdout",
     "output_type": "stream",
     "text": [
      " * sqlite:///MovieNow.db\n",
      "Done.\n"
     ]
    },
    {
     "data": {
      "text/html": [
       "<table>\n",
       "    <thead>\n",
       "        <tr>\n",
       "            <th>actsin_id</th>\n",
       "            <th>movie_id</th>\n",
       "            <th>actor_id</th>\n",
       "        </tr>\n",
       "    </thead>\n",
       "    <tbody>\n",
       "        <tr>\n",
       "            <td>1</td>\n",
       "            <td>37</td>\n",
       "            <td>1</td>\n",
       "        </tr>\n",
       "        <tr>\n",
       "            <td>2</td>\n",
       "            <td>56</td>\n",
       "            <td>2</td>\n",
       "        </tr>\n",
       "        <tr>\n",
       "            <td>3</td>\n",
       "            <td>10</td>\n",
       "            <td>3</td>\n",
       "        </tr>\n",
       "        <tr>\n",
       "            <td>4</td>\n",
       "            <td>14</td>\n",
       "            <td>3</td>\n",
       "        </tr>\n",
       "        <tr>\n",
       "            <td>5</td>\n",
       "            <td>29</td>\n",
       "            <td>3</td>\n",
       "        </tr>\n",
       "    </tbody>\n",
       "</table>"
      ],
      "text/plain": [
       "[(1, 37, 1), (2, 56, 2), (3, 10, 3), (4, 14, 3), (5, 29, 3)]"
      ]
     },
     "execution_count": 7,
     "metadata": {},
     "output_type": "execute_result"
    }
   ],
   "source": [
    "%%sql\n",
    "SELECT *\n",
    "FROM actsin\n",
    "LIMIT 5;"
   ]
  },
  {
   "cell_type": "code",
   "execution_count": 10,
   "metadata": {},
   "outputs": [
    {
     "name": "stdout",
     "output_type": "stream",
     "text": [
      " * sqlite:///MovieNow.db\n",
      "Done.\n"
     ]
    },
    {
     "data": {
      "text/html": [
       "<table>\n",
       "    <thead>\n",
       "        <tr>\n",
       "            <th>id</th>\n",
       "            <th>name</th>\n",
       "            <th>nationality</th>\n",
       "            <th>gender</th>\n",
       "            <th>dob</th>\n",
       "            <th>membersince</th>\n",
       "        </tr>\n",
       "    </thead>\n",
       "    <tbody>\n",
       "        <tr>\n",
       "            <td>1</td>\n",
       "            <td>Robert Bohm</td>\n",
       "            <td>Austria</td>\n",
       "            <td>male</td>\n",
       "            <td>1980-07-30</td>\n",
       "            <td>2018-09-02</td>\n",
       "        </tr>\n",
       "        <tr>\n",
       "            <td>2</td>\n",
       "            <td>Wolfgang Ackermann</td>\n",
       "            <td>Austria</td>\n",
       "            <td>male</td>\n",
       "            <td>1971-11-17</td>\n",
       "            <td>2018-10-15</td>\n",
       "        </tr>\n",
       "        <tr>\n",
       "            <td>3</td>\n",
       "            <td>Daniela Herzog</td>\n",
       "            <td>Austria</td>\n",
       "            <td>female</td>\n",
       "            <td>1974-08-07</td>\n",
       "            <td>2019-02-14</td>\n",
       "        </tr>\n",
       "        <tr>\n",
       "            <td>4</td>\n",
       "            <td>Julia Jung</td>\n",
       "            <td>Austria</td>\n",
       "            <td>female</td>\n",
       "            <td>1991-01-04</td>\n",
       "            <td>2017-11-22</td>\n",
       "        </tr>\n",
       "        <tr>\n",
       "            <td>5</td>\n",
       "            <td>Juliane Kirsch</td>\n",
       "            <td>Austria</td>\n",
       "            <td>female</td>\n",
       "            <td>1977-03-01</td>\n",
       "            <td>2018-12-16</td>\n",
       "        </tr>\n",
       "    </tbody>\n",
       "</table>"
      ],
      "text/plain": [
       "[(1, 'Robert Bohm', 'Austria', 'male', '1980-07-30', '2018-09-02'),\n",
       " (2, 'Wolfgang Ackermann', 'Austria', 'male', '1971-11-17', '2018-10-15'),\n",
       " (3, 'Daniela Herzog', 'Austria', 'female', '1974-08-07', '2019-02-14'),\n",
       " (4, 'Julia Jung', 'Austria', 'female', '1991-01-04', '2017-11-22'),\n",
       " (5, 'Juliane Kirsch', 'Austria', 'female', '1977-03-01', '2018-12-16')]"
      ]
     },
     "execution_count": 10,
     "metadata": {},
     "output_type": "execute_result"
    }
   ],
   "source": [
    "%%sql\n",
    "SELECT *\n",
    "FROM customers\n",
    "LIMIT 5;"
   ]
  },
  {
   "cell_type": "code",
   "execution_count": 11,
   "metadata": {},
   "outputs": [
    {
     "name": "stdout",
     "output_type": "stream",
     "text": [
      " * sqlite:///MovieNow.db\n",
      "Done.\n"
     ]
    },
    {
     "data": {
      "text/html": [
       "<table>\n",
       "    <thead>\n",
       "        <tr>\n",
       "            <th>movie_id</th>\n",
       "            <th>title</th>\n",
       "            <th>genre</th>\n",
       "            <th>runtime</th>\n",
       "            <th>year_of_releas</th>\n",
       "            <th>renting_price</th>\n",
       "        </tr>\n",
       "    </thead>\n",
       "    <tbody>\n",
       "        <tr>\n",
       "            <td>1</td>\n",
       "            <td>One Night at McCool&#x27;s</td>\n",
       "            <td>Comedy</td>\n",
       "            <td>93</td>\n",
       "            <td>2001</td>\n",
       "            <td>2.09</td>\n",
       "        </tr>\n",
       "        <tr>\n",
       "            <td>2</td>\n",
       "            <td>Swordfish</td>\n",
       "            <td>Drama</td>\n",
       "            <td>99</td>\n",
       "            <td>2001</td>\n",
       "            <td>2.19</td>\n",
       "        </tr>\n",
       "        <tr>\n",
       "            <td>3</td>\n",
       "            <td>What Women Want</td>\n",
       "            <td>Comedy</td>\n",
       "            <td>127</td>\n",
       "            <td>2001</td>\n",
       "            <td>2.59</td>\n",
       "        </tr>\n",
       "        <tr>\n",
       "            <td>4</td>\n",
       "            <td>Training Day</td>\n",
       "            <td>Drama</td>\n",
       "            <td>122</td>\n",
       "            <td>2001</td>\n",
       "            <td>1.79</td>\n",
       "        </tr>\n",
       "        <tr>\n",
       "            <td>5</td>\n",
       "            <td>The Fellowship of the Ring</td>\n",
       "            <td>Science Fiction &amp; Fantasy</td>\n",
       "            <td>178</td>\n",
       "            <td>2001</td>\n",
       "            <td>2.59</td>\n",
       "        </tr>\n",
       "    </tbody>\n",
       "</table>"
      ],
      "text/plain": [
       "[(1, \"One Night at McCool's\", 'Comedy', 93, 2001, 2.09),\n",
       " (2, 'Swordfish', 'Drama', 99, 2001, 2.19),\n",
       " (3, 'What Women Want', 'Comedy', 127, 2001, 2.59),\n",
       " (4, 'Training Day', 'Drama', 122, 2001, 1.79),\n",
       " (5, 'The Fellowship of the Ring', 'Science Fiction & Fantasy', 178, 2001, 2.59)]"
      ]
     },
     "execution_count": 11,
     "metadata": {},
     "output_type": "execute_result"
    }
   ],
   "source": [
    "%%sql\n",
    "SELECT *\n",
    "FROM movies\n",
    "LIMIT 5;"
   ]
  },
  {
   "cell_type": "code",
   "execution_count": 12,
   "metadata": {},
   "outputs": [
    {
     "name": "stdout",
     "output_type": "stream",
     "text": [
      " * sqlite:///MovieNow.db\n",
      "Done.\n"
     ]
    },
    {
     "data": {
      "text/html": [
       "<table>\n",
       "    <thead>\n",
       "        <tr>\n",
       "            <th>renting_id</th>\n",
       "            <th>customer_id</th>\n",
       "            <th>movie_id</th>\n",
       "            <th>rating</th>\n",
       "            <th>date_renting</th>\n",
       "        </tr>\n",
       "    </thead>\n",
       "    <tbody>\n",
       "        <tr>\n",
       "            <td>1</td>\n",
       "            <td>41</td>\n",
       "            <td>8</td>\n",
       "            <td>None</td>\n",
       "            <td>2018-10-09</td>\n",
       "        </tr>\n",
       "        <tr>\n",
       "            <td>2</td>\n",
       "            <td>10</td>\n",
       "            <td>29</td>\n",
       "            <td>10.0</td>\n",
       "            <td>2017-03-01</td>\n",
       "        </tr>\n",
       "        <tr>\n",
       "            <td>3</td>\n",
       "            <td>108</td>\n",
       "            <td>45</td>\n",
       "            <td>4.0</td>\n",
       "            <td>2018-06-08</td>\n",
       "        </tr>\n",
       "        <tr>\n",
       "            <td>4</td>\n",
       "            <td>39</td>\n",
       "            <td>66</td>\n",
       "            <td>8.0</td>\n",
       "            <td>2018-10-22</td>\n",
       "        </tr>\n",
       "        <tr>\n",
       "            <td>5</td>\n",
       "            <td>104</td>\n",
       "            <td>15</td>\n",
       "            <td>7.0</td>\n",
       "            <td>2019-03-18</td>\n",
       "        </tr>\n",
       "    </tbody>\n",
       "</table>"
      ],
      "text/plain": [
       "[(1, 41, 8, None, '2018-10-09'),\n",
       " (2, 10, 29, 10.0, '2017-03-01'),\n",
       " (3, 108, 45, 4.0, '2018-06-08'),\n",
       " (4, 39, 66, 8.0, '2018-10-22'),\n",
       " (5, 104, 15, 7.0, '2019-03-18')]"
      ]
     },
     "execution_count": 12,
     "metadata": {},
     "output_type": "execute_result"
    }
   ],
   "source": [
    "%%sql\n",
    "SELECT *\n",
    "FROM renting\n",
    "LIMIT 5;"
   ]
  },
  {
   "cell_type": "markdown",
   "metadata": {},
   "source": [
    "### Basic Information"
   ]
  },
  {
   "cell_type": "markdown",
   "metadata": {},
   "source": [
    "#### What its the total number of the members?"
   ]
  },
  {
   "cell_type": "code",
   "execution_count": 20,
   "metadata": {},
   "outputs": [
    {
     "name": "stdout",
     "output_type": "stream",
     "text": [
      " * sqlite:///MovieNow.db\n",
      "Done.\n"
     ]
    },
    {
     "data": {
      "text/html": [
       "<table>\n",
       "    <thead>\n",
       "        <tr>\n",
       "            <th>number_of_members</th>\n",
       "        </tr>\n",
       "    </thead>\n",
       "    <tbody>\n",
       "        <tr>\n",
       "            <td>123</td>\n",
       "        </tr>\n",
       "    </tbody>\n",
       "</table>"
      ],
      "text/plain": [
       "[(123,)]"
      ]
     },
     "execution_count": 20,
     "metadata": {},
     "output_type": "execute_result"
    }
   ],
   "source": [
    "%%sql\n",
    "SELECT COUNT(DISTINCT name) AS number_of_members\n",
    "FROM customers;"
   ]
  },
  {
   "cell_type": "markdown",
   "metadata": {},
   "source": [
    "#### What is the total number of the movies?"
   ]
  },
  {
   "cell_type": "code",
   "execution_count": 38,
   "metadata": {},
   "outputs": [
    {
     "name": "stdout",
     "output_type": "stream",
     "text": [
      " * sqlite:///MovieNow.db\n",
      "Done.\n"
     ]
    },
    {
     "data": {
      "text/html": [
       "<table>\n",
       "    <thead>\n",
       "        <tr>\n",
       "            <th>number_of_movies</th>\n",
       "        </tr>\n",
       "    </thead>\n",
       "    <tbody>\n",
       "        <tr>\n",
       "            <td>71</td>\n",
       "        </tr>\n",
       "    </tbody>\n",
       "</table>"
      ],
      "text/plain": [
       "[(71,)]"
      ]
     },
     "execution_count": 38,
     "metadata": {},
     "output_type": "execute_result"
    }
   ],
   "source": [
    "%%sql\n",
    "SELECT COUNT(DISTINCT title) AS number_of_movies\n",
    "FROM movies;"
   ]
  },
  {
   "cell_type": "markdown",
   "metadata": {},
   "source": [
    "### Movie details"
   ]
  },
  {
   "cell_type": "markdown",
   "metadata": {},
   "source": [
    "#### What is the top 5 movies that have the highest average rating?\n",
    "Note: only choose movie that has more than 5 rating"
   ]
  },
  {
   "cell_type": "code",
   "execution_count": 58,
   "metadata": {},
   "outputs": [
    {
     "name": "stdout",
     "output_type": "stream",
     "text": [
      " * sqlite:///MovieNow.db\n",
      "Done.\n"
     ]
    },
    {
     "data": {
      "text/html": [
       "<table>\n",
       "    <thead>\n",
       "        <tr>\n",
       "            <th>title</th>\n",
       "            <th>number_rating</th>\n",
       "            <th>avg_rating</th>\n",
       "        </tr>\n",
       "    </thead>\n",
       "    <tbody>\n",
       "        <tr>\n",
       "            <td>Django Unchained</td>\n",
       "            <td>6</td>\n",
       "            <td>9.33</td>\n",
       "        </tr>\n",
       "        <tr>\n",
       "            <td>Young Adult</td>\n",
       "            <td>6</td>\n",
       "            <td>8.83</td>\n",
       "        </tr>\n",
       "        <tr>\n",
       "            <td>Imagining Argentina</td>\n",
       "            <td>6</td>\n",
       "            <td>8.67</td>\n",
       "        </tr>\n",
       "        <tr>\n",
       "            <td>Harry Potter and the Half-Blood Prince</td>\n",
       "            <td>11</td>\n",
       "            <td>8.64</td>\n",
       "        </tr>\n",
       "        <tr>\n",
       "            <td>Morning Glory</td>\n",
       "            <td>7</td>\n",
       "            <td>8.43</td>\n",
       "        </tr>\n",
       "    </tbody>\n",
       "</table>"
      ],
      "text/plain": [
       "[('Django Unchained', 6, 9.33),\n",
       " ('Young Adult', 6, 8.83),\n",
       " ('Imagining Argentina', 6, 8.67),\n",
       " ('Harry Potter and the Half-Blood Prince', 11, 8.64),\n",
       " ('Morning Glory', 7, 8.43)]"
      ]
     },
     "execution_count": 58,
     "metadata": {},
     "output_type": "execute_result"
    }
   ],
   "source": [
    "%%sql\n",
    "SELECT title,\n",
    "       COUNT(rating) AS number_rating,\n",
    "       ROUND(AVG(rating),2) AS avg_rating\n",
    "FROM movies AS m\n",
    "LEFT JOIN renting AS r\n",
    "ON m.movie_id = r.movie_id\n",
    "GROUP BY r.movie_id\n",
    "HAVING number_rating > 5\n",
    "ORDER BY avg_rating DESC\n",
    "LIMIT 5;"
   ]
  },
  {
   "cell_type": "markdown",
   "metadata": {},
   "source": [
    "#### What is the top 5 most rented movies?"
   ]
  },
  {
   "cell_type": "code",
   "execution_count": 59,
   "metadata": {},
   "outputs": [
    {
     "name": "stdout",
     "output_type": "stream",
     "text": [
      " * sqlite:///MovieNow.db\n",
      "Done.\n"
     ]
    },
    {
     "data": {
      "text/html": [
       "<table>\n",
       "    <thead>\n",
       "        <tr>\n",
       "            <th>title</th>\n",
       "            <th>number_rented</th>\n",
       "        </tr>\n",
       "    </thead>\n",
       "    <tbody>\n",
       "        <tr>\n",
       "            <td>The Kingdom</td>\n",
       "            <td>15</td>\n",
       "        </tr>\n",
       "        <tr>\n",
       "            <td>Training Day</td>\n",
       "            <td>14</td>\n",
       "        </tr>\n",
       "        <tr>\n",
       "            <td>Harry Potter and the Half-Blood Prince</td>\n",
       "            <td>13</td>\n",
       "        </tr>\n",
       "        <tr>\n",
       "            <td>World Trade Center</td>\n",
       "            <td>13</td>\n",
       "        </tr>\n",
       "        <tr>\n",
       "            <td>Monster</td>\n",
       "            <td>13</td>\n",
       "        </tr>\n",
       "    </tbody>\n",
       "</table>"
      ],
      "text/plain": [
       "[('The Kingdom', 15),\n",
       " ('Training Day', 14),\n",
       " ('Harry Potter and the Half-Blood Prince', 13),\n",
       " ('World Trade Center', 13),\n",
       " ('Monster', 13)]"
      ]
     },
     "execution_count": 59,
     "metadata": {},
     "output_type": "execute_result"
    }
   ],
   "source": [
    "%%sql\n",
    "SELECT m.title, \n",
    "       COUNT(r.renting_id) AS number_rented\n",
    "FROM renting AS r\n",
    "LEFT JOIN movies AS m\n",
    "ON r.movie_id = m.movie_id\n",
    "GROUP BY r.movie_id\n",
    "ORDER BY number_rented DESC\n",
    "LIMIT 5;"
   ]
  },
  {
   "cell_type": "markdown",
   "metadata": {},
   "source": [
    "#### How much income did each movie generate? "
   ]
  },
  {
   "cell_type": "code",
   "execution_count": 70,
   "metadata": {},
   "outputs": [
    {
     "name": "stdout",
     "output_type": "stream",
     "text": [
      " * sqlite:///MovieNow.db\n",
      "Done.\n"
     ]
    },
    {
     "data": {
      "text/html": [
       "<table>\n",
       "    <thead>\n",
       "        <tr>\n",
       "            <th>title</th>\n",
       "            <th>income_movie</th>\n",
       "        </tr>\n",
       "    </thead>\n",
       "    <tbody>\n",
       "        <tr>\n",
       "            <td>Bridget Jones - The Edge of Reason</td>\n",
       "            <td>37.57</td>\n",
       "        </tr>\n",
       "        <tr>\n",
       "            <td>Fair Game</td>\n",
       "            <td>34.68</td>\n",
       "        </tr>\n",
       "        <tr>\n",
       "            <td>The Kingdom</td>\n",
       "            <td>31.35</td>\n",
       "        </tr>\n",
       "        <tr>\n",
       "            <td>Two for the Money</td>\n",
       "            <td>30.69</td>\n",
       "        </tr>\n",
       "        <tr>\n",
       "            <td>Simone</td>\n",
       "            <td>29.59</td>\n",
       "        </tr>\n",
       "    </tbody>\n",
       "</table>"
      ],
      "text/plain": [
       "[('Bridget Jones - The Edge of Reason', 37.57),\n",
       " ('Fair Game', 34.68),\n",
       " ('The Kingdom', 31.35),\n",
       " ('Two for the Money', 30.69),\n",
       " ('Simone', 29.59)]"
      ]
     },
     "execution_count": 70,
     "metadata": {},
     "output_type": "execute_result"
    }
   ],
   "source": [
    "%%sql\n",
    "SELECT rm.title,\n",
    "       ROUND(SUM(rm.renting_price),2) AS income_movie\n",
    "FROM\n",
    "       (SELECT m.title,  \n",
    "               m.renting_price\n",
    "       FROM renting AS r\n",
    "       LEFT JOIN movies AS m\n",
    "       ON r.movie_id=m.movie_id) AS rm\n",
    "GROUP BY rm.title\n",
    "ORDER BY income_movie DESC\n",
    "LIMIT 5; "
   ]
  },
  {
   "cell_type": "markdown",
   "metadata": {},
   "source": [
    "### Customer details"
   ]
  },
  {
   "cell_type": "markdown",
   "metadata": {},
   "source": [
    "#### "
   ]
  },
  {
   "cell_type": "markdown",
   "metadata": {},
   "source": [
    "#### Who are the customers who rent movies most often?"
   ]
  },
  {
   "cell_type": "code",
   "execution_count": null,
   "metadata": {},
   "outputs": [],
   "source": [
    "%%sql\n",
    "SELECT "
   ]
  }
 ],
 "metadata": {
  "kernelspec": {
   "display_name": "Python 3",
   "language": "python",
   "name": "python3"
  },
  "language_info": {
   "codemirror_mode": {
    "name": "ipython",
    "version": 3
   },
   "file_extension": ".py",
   "mimetype": "text/x-python",
   "name": "python",
   "nbconvert_exporter": "python",
   "pygments_lexer": "ipython3",
   "version": "3.9.6"
  }
 },
 "nbformat": 4,
 "nbformat_minor": 2
}
